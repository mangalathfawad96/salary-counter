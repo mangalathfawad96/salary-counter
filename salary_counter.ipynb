import time
import threading
import numpy as np
import matplotlib.pyplot as plt
from IPython.display import display, clear_output
import ipywidgets as widgets

# Function to calculate and update the salary counter
def start_salary_counter(annual_salary, working_hours_per_week):
    # Calculate salary per second
    seconds_per_week = working_hours_per_week * 3600
    salary_per_second = annual_salary / (52 * seconds_per_week)
    
    # Initialize counter variables
    total_seconds = 0
    earned = 0.0
    earnings = []
    
    # Create widgets to display the salary
    label = widgets.Label(value="Salary Earned:")
    counter_label = widgets.Label(value="$0.00")
    display(label, counter_label)
    
    # Function to update the counter
    def update_counter():
        nonlocal total_seconds, earned, earnings
        fig, ax = plt.subplots()
        while True:
            time.sleep(1)
            total_seconds += 1
            earned += salary_per_second
            earnings.append(earned)
            
            # Update the label
            counter_label.value = f"${earned:.2f}"
            
            # Plot the earnings
            ax.clear()
            ax.plot(earnings, label='Salary Earned')
            ax.set_xlabel('Seconds')
            ax.set_ylabel('Dollars')
            ax.legend()
            clear_output(wait=True)
            display(fig)
    
    # Start the counter in a separate thread
    counter_thread = threading.Thread(target=update_counter)
    counter_thread.daemon = True
    counter_thread.start()

# Set your annual salary and working hours per week
annual_salary = 60000  # Replace with your annual salary
working_hours_per_week = 40  # Replace with your working hours per week

# Start the salary counter
start_salary_counter(annual_salary, working_hours_per_week)
